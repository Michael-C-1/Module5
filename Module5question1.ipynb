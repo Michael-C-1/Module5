{
  "nbformat": 4,
  "nbformat_minor": 0,
  "metadata": {
    "colab": {
      "name": "Untitled",
      "provenance": [],
      "authorship_tag": "ABX9TyNZ3JRExdnNYzAcmWdrJ9g2",
      "include_colab_link": true
    },
    "kernelspec": {
      "name": "python3",
      "display_name": "Python 3"
    }
  },
  "cells": [
    {
      "cell_type": "markdown",
      "metadata": {
        "id": "view-in-github",
        "colab_type": "text"
      },
      "source": [
        "<a href=\"https://colab.research.google.com/github/Michael-C-1/Module5/blob/question1/Module5question1.ipynb\" target=\"_parent\"><img src=\"https://colab.research.google.com/assets/colab-badge.svg\" alt=\"Open In Colab\"/></a>"
      ]
    },
    {
      "cell_type": "code",
      "metadata": {
        "id": "ThqMAQHlMSNu",
        "outputId": "7e1cb832-97c7-49e6-d753-96e396811cc5",
        "colab": {
          "base_uri": "https://localhost:8080/",
          "height": 136
        }
      },
      "source": [
        "name='12345'\n",
        "age=-1\n",
        "counter=0\n",
        "\n",
        "while(True):\n",
        "  counter+=1\n",
        "  if (counter>3):\n",
        "    print('Unacceptable')\n",
        "    break\n",
        "\n",
        "  age=input('What is your age?')\n",
        "  name=input('What is your name?')\n",
        "  if(age.isdigit() and all(name.isalpha() or name.isspace() for x in name) and (int(age)>=1 and int(age)<=100)):\n",
        "    print('Acceptable')\n",
        "    break"
      ],
      "execution_count": 7,
      "outputs": [
        {
          "output_type": "stream",
          "text": [
            "What is your age?-1\n",
            "What is your name?cat\n",
            "What is your age?101\n",
            "What is your name?dog\n",
            "What is your age?1\n",
            "What is your name?mouse\n",
            "Acceptable\n"
          ],
          "name": "stdout"
        }
      ]
    }
  ]
}