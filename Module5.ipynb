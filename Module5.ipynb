{
  "nbformat": 4,
  "nbformat_minor": 0,
  "metadata": {
    "colab": {
      "name": "Module5.ipynb",
      "provenance": []
    },
    "kernelspec": {
      "name": "python3",
      "display_name": "Python 3"
    }
  },
  "cells": [
    {
      "cell_type": "markdown",
      "metadata": {
        "id": "oqacY7iny3Sg"
      },
      "source": [
        "#Name and age: 3 tries\n",
        "The user has 3 tries to input their name and age. If the age is numeric and between 1 and 100, it's valid. If the name has only letters, it is valid. If not, and the user hasn't used all their tries, they try again."
      ]
    },
    {
      "cell_type": "code",
      "metadata": {
        "id": "Wm7Uq1cXxeDO",
        "outputId": "023145eb-4651-4c9c-b732-ba270b10c2b9",
        "colab": {
          "base_uri": "https://localhost:8080/",
          "height": 136
        }
      },
      "source": [
        "name=str(1)\n",
        "chances=0\n",
        "\n",
        "for letter in name:\n",
        "  if letter.isupper():\n",
        "    upperCase=True\n",
        "  if letter.islower():\n",
        "    lowerCase=True\n",
        "  if letter.isnumeric():\n",
        "    Numeric=True\n",
        "\n",
        "if (chances<=3) and ('upperCase' is True) and ('lowerCase' is True) and (Numeric is False):\n",
        "  print('Acceptable')\n",
        "\n",
        "while (Numeric is True):\n",
        "  if chances>=3:\n",
        "    print('Unacceptable')\n",
        "    break\n",
        "  chances=chances+1\n",
        "  name==str(input('Please give me your name:\\n'))"
      ],
      "execution_count": null,
      "outputs": [
        {
          "output_type": "stream",
          "text": [
            "Please give me your name:\n",
            "Alex\n",
            "Please give me your name:\n",
            "Alex\n",
            "Please give me your name:\n",
            "Alex\n",
            "Unacceptable\n"
          ],
          "name": "stdout"
        }
      ]
    },
    {
      "cell_type": "code",
      "metadata": {
        "id": "FRNrO5tysgKE",
        "outputId": "3283ba11-36f9-4582-f8d3-cdd1d56c6c8e",
        "colab": {
          "base_uri": "https://localhost:8080/",
          "height": 34
        }
      },
      "source": [
        "age=str(-1)\n",
        "chances=0\n",
        "\n",
        "for letter in age:\n",
        "  if letter.isnumeric():\n",
        "    Numeric=True\n",
        "if (chances<=3) and (int(age)>=1) and (int(age)<=100) and (Numeric is True):\n",
        "  print('Acceptable')\n",
        "while int(age)<1 or int(age)>100 or (Numeric is False):\n",
        "  if chances>=3:\n",
        "    print('Unacceptable')\n",
        "    break\n",
        "  chances=chances+1\n",
        "  age=str(int(input('Please give me your age:')))"
      ],
      "execution_count": null,
      "outputs": [
        {
          "output_type": "stream",
          "text": [
            "Please give me your age:1\n"
          ],
          "name": "stdout"
        }
      ]
    },
    {
      "cell_type": "markdown",
      "metadata": {
        "id": "omBH6O3oy4qP"
      },
      "source": [
        "#Password\n",
        "The user inputs a password. If the password has at least 8 characters, an uppercase letter, a lowercase letter, a number, and a special character it's valid. Otherwise, the password is invalid."
      ]
    },
    {
      "cell_type": "code",
      "metadata": {
        "id": "CMGRD1exy-w_",
        "outputId": "53671343-6ba0-4a93-eb33-82deaecca8c9",
        "colab": {
          "base_uri": "https://localhost:8080/",
          "height": 51
        }
      },
      "source": [
        "import re\n",
        "password=input('Put in a potential password: ')\n",
        "x=1\n",
        "counter=0\n",
        "upperCase=lowerCase=hasNumber=False\n",
        "hasSpecial=False\n",
        "\n",
        "for letter in password:\n",
        "  if letter.isupper():\n",
        "    upperCase=True\n",
        "  if letter.islower():\n",
        "    lowerCase=True\n",
        "  if letter.isnumeric():\n",
        "    hasNumber=True\n",
        "  if re.findall('[^A-Za-z0-9]', password):\n",
        "    hasSpecial=True\n",
        "  counter+=1\n",
        "\n",
        "if (counter >= 8) and (upperCase is True) and (lowerCase is True) and (hasNumber is True) and (hasSpecial is True):\n",
        "   print('That is a valid password')\n",
        "while (x is 1):\n",
        "  if counter<=7:\n",
        "    if (upperCase is False):\n",
        "      if (lowerCase is False):\n",
        "        if (hasNumber is False):\n",
        "          if (hasSpecial is False):\n",
        "            print('Password needs at least 8 characters, an uppercase letter, a lowercase letter, a number and a special character.')\n",
        "            password=input('Put in a potential password: ')\n",
        "          else:\n",
        "            print('Password needs at least 8 characters, an uppercase letter, a lowercase letter and a number.')\n",
        "            password=input('Put in a potential password: ')\n",
        "        elif (hasSpecial is False):\n",
        "          print('Password needs at least 8 characters, an uppercase letter, a lowercase letter and a special character.')\n",
        "          password=input('Put in a potential password: ')\n",
        "        else:\n",
        "          print('Password needs at least 8 characters, an uppercase letter and a lowercase letter')\n",
        "          password=input('Put in a potential password: ')\n",
        "      elif (hasNumber is False):\n",
        "        if (hasSpecial is False):\n",
        "          print('Password needs at least 8 characters, an uppercase letter, a number and a special character')\n",
        "          password=input('Put in a potential password: ')\n",
        "        else:\n",
        "          print('Password needs at least 8 characters, an uppercase letter, and a number')\n",
        "          password=input('Put in a potential password: ')\n",
        "      elif (hasSpecial is False):\n",
        "        print('Password needs at least 8 characters, an uppercase letter and a special character')\n",
        "        password=input('Put in a potential password: ')\n",
        "      else:\n",
        "        print('Password needs at least 8 characters and an uppercase letter')\n",
        "        password=input('Put in a potential password: ')\n",
        "    elif (lowerCase is False):\n",
        "      if (hasNumber is False):\n",
        "        if (hasSpecial is False):\n",
        "          print('Password needs at least 8 characters, a lowercase letter, a number and a special character')\n",
        "          password=input('Put in a potential password: ')\n",
        "        else:\n",
        "          print('Password needs at least 8 characters, a lowercase letter and a number')\n",
        "          password=input('Put in a potential password: ')\n",
        "      elif (hasSpecial is False):\n",
        "        print('Password needs at least 8 characters, a lowercase letter and a special character')\n",
        "        password=input('Put in a potential password: ')\n",
        "      else:\n",
        "        print('Password needs at least 8 characters and a lowercase letter')\n",
        "        password=input('Put in a potential password: ')\n",
        "    elif (hasNumber is False):\n",
        "      if (hasSpecial is False):\n",
        "        print('Password needs at least 8 characters, a number and a special character')\n",
        "        password=input('Put in a potential password: ')\n",
        "      else:\n",
        "        print('Password needs at least 8 characters and a number')\n",
        "        password=input('Put in a potential password: ')\n",
        "    elif (hasSpecial is False):\n",
        "      print('Password needs at least 8 characters and a special character')\n",
        "      password=input('Put in a potential password: ')\n",
        "    else:\n",
        "      print('Password needs at least 8 characters')\n",
        "      password=input('Put in a potential password: ')\n",
        "  elif (upperCase is False):\n",
        "    if (lowerCase is False):\n",
        "      if (hasNumber is False):\n",
        "        if (hasSpecial is False):\n",
        "          print('Password needs an uppercase letter, a lowercase letter, a number and a special character')\n",
        "          password=input('Put in a potential password: ')\n",
        "        else:\n",
        "          print('Password needs an uppercase letter, a lowercase letter and a number')\n",
        "          password=input('Put in a potential password: ')\n",
        "      elif (hasSpecial is False):\n",
        "        print('Password needs an uppercase letter, a lowercase letter and a special character')\n",
        "        password=input('Put in a potential password: ')\n",
        "      else:\n",
        "        print('Password needs an uppercase letter and a lowercase letter')\n",
        "        password=input('Put in a potential password: ')\n",
        "    elif (hasNumber is False):\n",
        "      if (hasSpecial is False):\n",
        "        print('Password needs an uppercase letter, a number and a special character')\n",
        "        password=input('Put in a potential password: ')\n",
        "      else:\n",
        "        print('Password needs an uppercase letter and a number')\n",
        "        password=input('Put in a potential password: ')\n",
        "    elif (hasSpecial is False):\n",
        "      print('Password needs an uppercase letter and a special character')\n",
        "      password=input('Put in a potential password: ')\n",
        "    else:\n",
        "      print('Password needs an uppercase letter')\n",
        "      password=input('Put in a potential password: ')\n",
        "  elif (lowerCase is False):\n",
        "    if (hasNumber is False):\n",
        "      if (hasSpecial is False):\n",
        "        print('Password needs a lowercase letter, a number and a special character')\n",
        "        password=input('Put in a potential password: ')\n",
        "      else:\n",
        "        print('Password needs a lowercase letter and a number')\n",
        "        password=input('Put in a potential password: ')\n",
        "    elif (hasSpecial is False):\n",
        "      print('Password needs a lowercase letter and a special character')\n",
        "      password=input('Put in a potential password: ')\n",
        "    else:\n",
        "      print('Password needs a lowercase letter.')\n",
        "      password=input('Put in a potential password: ')\n",
        "  elif (hasNumber is False):\n",
        "    if (hasSpecial is False):\n",
        "      print('Password needs a number and a special character.')\n",
        "      password=input('Put in a potential password: ')\n",
        "    else:\n",
        "      print('Password needs a number.')\n",
        "      password=input('Put in a potential password: ')\n",
        "  elif (hasSpecial is False):\n",
        "    print('Password needs a special character.')\n",
        "    password=input('Put in a potential password: ')\n",
        "  else:\n",
        "    x+=1"
      ],
      "execution_count": null,
      "outputs": [
        {
          "output_type": "stream",
          "text": [
            "Put in a potential password: !AbcD123\n",
            "That is a valid password\n"
          ],
          "name": "stdout"
        }
      ]
    },
    {
      "cell_type": "markdown",
      "metadata": {
        "id": "DFrI9U-uy9sw"
      },
      "source": [
        "Every number with a 3 in it between 1 and 1000"
      ]
    },
    {
      "cell_type": "code",
      "metadata": {
        "id": "6AEDz8gyzDS_",
        "outputId": "2f4a051f-bb79-4c30-a929-928d09d4dfb8",
        "colab": {
          "base_uri": "https://localhost:8080/",
          "height": 54
        }
      },
      "source": [
        "for i in range(1,1001):\n",
        "  val=i\n",
        "  check=0\n",
        "  while val != 0:\n",
        "    check = val%10\n",
        "    if (check==3):\n",
        "      print(i, end='|')\n",
        "      break\n",
        "    val=val//10"
      ],
      "execution_count": null,
      "outputs": [
        {
          "output_type": "stream",
          "text": [
            "3|13|23|30|31|32|33|34|35|36|37|38|39|43|53|63|73|83|93|103|113|123|130|131|132|133|134|135|136|137|138|139|143|153|163|173|183|193|203|213|223|230|231|232|233|234|235|236|237|238|239|243|253|263|273|283|293|300|301|302|303|304|305|306|307|308|309|310|311|312|313|314|315|316|317|318|319|320|321|322|323|324|325|326|327|328|329|330|331|332|333|334|335|336|337|338|339|340|341|342|343|344|345|346|347|348|349|350|351|352|353|354|355|356|357|358|359|360|361|362|363|364|365|366|367|368|369|370|371|372|373|374|375|376|377|378|379|380|381|382|383|384|385|386|387|388|389|390|391|392|393|394|395|396|397|398|399|403|413|423|430|431|432|433|434|435|436|437|438|439|443|453|463|473|483|493|503|513|523|530|531|532|533|534|535|536|537|538|539|543|553|563|573|583|593|603|613|623|630|631|632|633|634|635|636|637|638|639|643|653|663|673|683|693|703|713|723|730|731|732|733|734|735|736|737|738|739|743|753|763|773|783|793|803|813|823|830|831|832|833|834|835|836|837|838|839|843|853|863|873|883|893|903|913|923|930|931|932|933|934|935|936|937|938|939|943|953|963|973|983|993|"
          ],
          "name": "stdout"
        }
      ]
    },
    {
      "cell_type": "markdown",
      "metadata": {
        "id": "tQ3lIZ93zCg7"
      },
      "source": [
        "a"
      ]
    },
    {
      "cell_type": "code",
      "metadata": {
        "id": "3eqMBSeizCDf",
        "outputId": "f5c188eb-3ac3-421f-ff3e-01f5d4f43e07",
        "colab": {
          "base_uri": "https://localhost:8080/",
          "height": 867
        }
      },
      "source": [
        "for i in range(100, 0, -2):\n",
        "  print(i)"
      ],
      "execution_count": null,
      "outputs": [
        {
          "output_type": "stream",
          "text": [
            "100\n",
            "98\n",
            "96\n",
            "94\n",
            "92\n",
            "90\n",
            "88\n",
            "86\n",
            "84\n",
            "82\n",
            "80\n",
            "78\n",
            "76\n",
            "74\n",
            "72\n",
            "70\n",
            "68\n",
            "66\n",
            "64\n",
            "62\n",
            "60\n",
            "58\n",
            "56\n",
            "54\n",
            "52\n",
            "50\n",
            "48\n",
            "46\n",
            "44\n",
            "42\n",
            "40\n",
            "38\n",
            "36\n",
            "34\n",
            "32\n",
            "30\n",
            "28\n",
            "26\n",
            "24\n",
            "22\n",
            "20\n",
            "18\n",
            "16\n",
            "14\n",
            "12\n",
            "10\n",
            "8\n",
            "6\n",
            "4\n",
            "2\n"
          ],
          "name": "stdout"
        }
      ]
    },
    {
      "cell_type": "markdown",
      "metadata": {
        "id": "3zu847anzAhg"
      },
      "source": [
        "#Prime Numbers between 100 and 1000\n",
        "The program checks to see if a number in this range is divisible by every integer up to the square root of the number being checked. If it's divisible, the number is not shown."
      ]
    },
    {
      "cell_type": "code",
      "metadata": {
        "id": "zIJCIcqUy_kK",
        "outputId": "54f19481-d2e2-44ce-e64d-778d7f715038",
        "colab": {
          "base_uri": "https://localhost:8080/",
          "height": 54
        }
      },
      "source": [
        "import math\n",
        "for a in range(100, 1001):\n",
        "  for b in range(2, math.ceil(a**.5)):\n",
        "    if a%b==0:\n",
        "      break\n",
        "  else:\n",
        "    print(a, end='|')"
      ],
      "execution_count": null,
      "outputs": [
        {
          "output_type": "stream",
          "text": [
            "101|103|107|109|113|121|127|131|137|139|149|151|157|163|167|169|173|179|181|191|193|197|199|211|223|227|229|233|239|241|251|257|263|269|271|277|281|283|289|293|307|311|313|317|331|337|347|349|353|359|361|367|373|379|383|389|397|401|409|419|421|431|433|439|443|449|457|461|463|467|479|487|491|499|503|509|521|523|529|541|547|557|563|569|571|577|587|593|599|601|607|613|617|619|631|641|643|647|653|659|661|673|677|683|691|701|709|719|727|733|739|743|751|757|761|769|773|787|797|809|811|821|823|827|829|839|841|853|857|859|863|877|881|883|887|907|911|919|929|937|941|947|953|961|967|971|977|983|991|997|"
          ],
          "name": "stdout"
        }
      ]
    }
  ]
}